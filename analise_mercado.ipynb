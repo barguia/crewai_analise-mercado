{
 "cells": [
  {
   "cell_type": "code",
   "execution_count": 1,
   "id": "f21940cb",
   "metadata": {},
   "outputs": [],
   "source": [
    "from dotenv import load_dotenv, find_dotenv\n",
    "load_dotenv(find_dotenv())\n",
    "import os"
   ]
  },
  {
   "cell_type": "code",
   "execution_count": 2,
   "id": "82e9ff14",
   "metadata": {},
   "outputs": [],
   "source": [
    "from crewai import Agent, Task, Crew\n",
    "from IPython.display import display, Markdown\n",
    "import pdfkit"
   ]
  },
  {
   "cell_type": "markdown",
   "id": "93e59ba9",
   "metadata": {},
   "source": [
    "### Agentes\n",
    "- Pesquisador de Mercado\n",
    "- Analista de Tendências\n",
    "- Redator do Relatório"
   ]
  },
  {
   "cell_type": "code",
   "execution_count": 17,
   "id": "953dd01a",
   "metadata": {},
   "outputs": [],
   "source": [
    "pesquisador = Agent(\n",
    "    role=\"Pesquisador de Mercado\",\n",
    "    goal=\"Coletar e organizaarr informações relevantes sobre o {sector}\",\n",
    "    backstory=\"\"\"\n",
    "    Você é um pesquisador experiente que analisa tendências de marcado e\n",
    "    coleta dados relevantes sobre {sector}. Seu trabalho é garantir que todas as \n",
    "    informações estejam atualizadas e bem documentadas.\n",
    "    \"\"\",\n",
    "    allow_delegation=False,\n",
    "    verbose=True\n",
    ")"
   ]
  },
  {
   "cell_type": "code",
   "execution_count": 18,
   "id": "d11e08ba",
   "metadata": {},
   "outputs": [],
   "source": [
    "analista = Agent(\n",
    "    role=\"Analista de Tentências\",\n",
    "    goal=\"Analisar os dados do setor {sector} e identificar padr~es e oportunidades\",\n",
    "    backstory=\"\"\"\n",
    "    Você é um analista de mercado que examina os dados coletados para identificar\n",
    "    tentências emergentes, oportunidades e ameaças no setor {sector}.\n",
    "    \"\"\"\n",
    ")"
   ]
  },
  {
   "cell_type": "code",
   "execution_count": 19,
   "id": "92c77980",
   "metadata": {},
   "outputs": [],
   "source": [
    "redator = Agent(\n",
    "    role=\"Redator de Relatórios\",\n",
    "    goal=\"Criar um relatório consolidado sobre análise de mercado  do setor {sector}.\",\n",
    "    backstory=\"\"\"\n",
    "    Você é um redator profissional que transforma dados e análises de mercado em relatório\n",
    "    estruturado e compreensível para tomadores de decisão.\n",
    "    \"\"\",\n",
    "    allow_delegation=False,\n",
    "    verbose=True\n",
    ")"
   ]
  },
  {
   "cell_type": "code",
   "execution_count": 20,
   "id": "4ec0c10d",
   "metadata": {},
   "outputs": [],
   "source": [
    "coleta_dados = Task(\n",
    "    description=\"\"\"\n",
    "        1. Pesquisar e coletar informações atualizadas sobre o setor {sector};\n",
    "        2. Identificar os principais players, tendências e estatísticas do setor;\n",
    "        3. Organizar os dados de forma clara para análise\n",
    "        \"\"\",\n",
    "    expected_output=\"Um documento estruturado contendo dados de mercado sobre o setor {sector}.\",\n",
    "    agent=pesquisador\n",
    ")"
   ]
  },
  {
   "cell_type": "code",
   "execution_count": 21,
   "id": "e229a10c",
   "metadata": {},
   "outputs": [],
   "source": [
    "analise_tendencia = Task(\n",
    "    description=\"\"\"\n",
    "        1. Examinar os dados coletados pelo pesquisador;\n",
    "        2. Identificar padrões emergentes e oportunidades no setor {sector};\n",
    "        3. Elaborar uma análise detalhada destacando os principais pontos\n",
    "        \"\"\",\n",
    "    expected_output=\"Um relatório com insights e tendêcnais baseados nos  dados do setor {sector}.\",\n",
    "    agent=analista\n",
    ")"
   ]
  },
  {
   "cell_type": "code",
   "execution_count": 22,
   "id": "d37989ea",
   "metadata": {},
   "outputs": [],
   "source": [
    "redacao_relatorio = Task(\n",
    "    description=\"\"\"\n",
    "        1. Usar a análise de tendências para criar um relatório detalhado sobre o setor {sector};\n",
    "        2. Garantir que o relatório seja bem estruturado e copmpreensível;\n",
    "        3. Apresentar um resumo executivo e recomendações finais.\n",
    "        \"\"\",\n",
    "    expected_output=\"Um relatório com insights e tendêcnais baseados nos  dados do setor {sector}.\",\n",
    "    agent=redator\n",
    ")"
   ]
  },
  {
   "cell_type": "code",
   "execution_count": 26,
   "id": "e86934e2-693f-454d-8279-6501f19a7810",
   "metadata": {},
   "outputs": [],
   "source": [
    "crew = Crew(\n",
    "    agents = [pesquisador, analista, redator],\n",
    "    tasks = [coleta_dados, analise_tendencia, redacao_relatorio],\n",
    "    verbose = False\n",
    ")"
   ]
  },
  {
   "cell_type": "code",
   "execution_count": 27,
   "id": "7f8f0030-201c-4ab0-8289-0a1bfbfcdb0b",
   "metadata": {
    "scrolled": true
   },
   "outputs": [
    {
     "data": {
      "text/plain": [
       "Crew(id=ee63364c-4c11-462c-8d23-77478da97b04, process=Process.sequential, number_of_agents=3, number_of_tasks=3)"
      ]
     },
     "execution_count": 27,
     "metadata": {},
     "output_type": "execute_result"
    }
   ],
   "source": [
    "crew"
   ]
  },
  {
   "cell_type": "code",
   "execution_count": 28,
   "id": "7dff5911-bfb8-4856-9c98-343ea11a8f3d",
   "metadata": {},
   "outputs": [
    {
     "name": "stdout",
     "output_type": "stream",
     "text": [
      "\u001b[1m\u001b[95m# Agent:\u001b[00m \u001b[1m\u001b[92mPesquisador de Mercado\u001b[00m\n",
      "\u001b[95m## Task:\u001b[00m \u001b[92m\n",
      "        1. Pesquisar e coletar informações atualizadas sobre o setor Tecnologia da Informação;\n",
      "        2. Identificar os principais players, tendências e estatísticas do setor;\n",
      "        3. Organizar os dados de forma clara para análise\n",
      "        \u001b[00m\n",
      "\n",
      "\n",
      "\u001b[1m\u001b[95m# Agent:\u001b[00m \u001b[1m\u001b[92mPesquisador de Mercado\u001b[00m\n",
      "\u001b[95m## Final Answer:\u001b[00m \u001b[92m\n",
      "**Documento Estruturado: Setor de Tecnologia da Informação (TI)**\n",
      "\n",
      "**1. Visão Geral do Setor**\n",
      "   A Tecnologia da Informação (TI) abrange o uso de sistemas computacionais e software, bem como a gestão de dados e informações. Este setor tem sido fundamental para a transformação digital, impactos econômicos e, atualmente, permanece como um dos mais dinâmicos da economia global.\n",
      "\n",
      "**2. Principais Players do Setor**\n",
      "   - **Empresas de Software e Serviços**\n",
      "     - Microsoft: Líder em sistemas operacionais e soluções em nuvem.\n",
      "     - Oracle: Reconhecida por suas soluções de banco de dados e softwares empresariais.\n",
      "     - SAP: Concentra-se em software de planejamento empresarial.\n",
      "     - Salesforce: Pioneira em soluções de CRM baseadas na nuvem.\n",
      "   - **Fabricantes de Hardware**\n",
      "     - Apple: Conhecida por seus dispositivos eletrônicos e sistemas operacionais.\n",
      "     - IBM: Reconhecida por serviços de tecnologia e sistemas de hardware.\n",
      "     - Dell e HP: Conhecidas por suas linhas de computadores e servidores.\n",
      "   - **Empresas de Telecomunicações**\n",
      "     - AT&T, Verizon, e Vodafone: Fornecedores de serviços essenciais para conectividade no setor.\n",
      "   - **Startups e Inovadores**\n",
      "     - Zoom: Cresceu rapidamente durante a pandemia como uma plataforma de videoconferência.\n",
      "     - Slack: Ferramenta de colaboração que se tornou crucial para trabalho remoto.\n",
      "     - empresas focadas em IA, como OpenAI, que desenvolvem tecnologias emergentes.\n",
      "\n",
      "**3. Tendências do Setor**\n",
      "   - **Inteligência Artificial (IA)**: A adoção crescente de soluções de IA para automatizar processos e melhorar decisões de negócios.\n",
      "   - **Computação em Nuvem**: A migração para soluções em nuvem continua a crescer, oferecenado flexibilidade e escalabilidade.\n",
      "   - **Cibersegurança**: A necessidade de aumentar a proteção contra ciberataques e ameaças crescentes faz da segurança uma prioridade.\n",
      "   - **5G e Conectividade**: Com a implementação global do 5G, soluções de IoT e conectividade mais rápida são tendências emergentes.\n",
      "   - **Trabalho Híbrido**: O modelo de trabalho remoto e híbrido permanece, impactando ferramentas de colaboração e comunicação de TI.\n",
      "\n",
      "**4. Estatísticas do Setor (2023)**\n",
      "   - O mercado global de Tecnologia da Informação é avaliado em aproximadamente **$3 trilhões** com uma taxa de crescimento anual de cerca de **6-8%**.\n",
      "   - A infraestrutura de TI representa cerca de **30%** do total de gastos em tecnologia das empresas.\n",
      "   - O segmento de cibersegurança deve alcançar **$345 bilhões** até o final de 2026.\n",
      "   - A adoção de soluções em nuvem é projetada para aumentar em **20%** ao ano, refletindo o foco em operações remotas.\n",
      "   - O mercado de IA está previsto para crescer **40.2%** anualmente, atingindo cerca de **$190 bilhões** até 2025.\n",
      "\n",
      "**5. Conclusão**\n",
      "   O setor de Tecnologia da Informação continua a evoluir rapidamente, influenciado por inovações tecnológicas e mudanças de comportamento no local de trabalho. Acompanhando as tendências, players dominantes e estatísticas significativas, podemos prever um futuro robusto e impactante para o setor.\n",
      "\n",
      "**6. Referências e Fontes de Dados**\n",
      "   - Relatórios de Pesquisa de Mercado (Gartner, IDC, Statista)\n",
      "   - Publicações de Indústrias de TI (Forbes, TechCrunch)\n",
      "   - Dados financeiros de empresas públicas e privadas\n",
      "\n",
      "Este documento foi elaborado para fornecer uma visão clara e abrangente do setor de Tecnologia da Informação, fundamentado em dados atuais e relevantes.\u001b[00m\n",
      "\n",
      "\n",
      "\u001b[1m\u001b[95m# Agent:\u001b[00m \u001b[1m\u001b[92mRedator de Relatórios\u001b[00m\n",
      "\u001b[95m## Task:\u001b[00m \u001b[92m\n",
      "        1. Usar a análise de tendências para criar um relatório detalhado sobre o setor Tecnologia da Informação;\n",
      "        2. Garantir que o relatório seja bem estruturado e copmpreensível;\n",
      "        3. Apresentar um resumo executivo e recomendações finais.\n",
      "        \u001b[00m\n",
      "\n",
      "\n",
      "\u001b[1m\u001b[95m# Agent:\u001b[00m \u001b[1m\u001b[92mRedator de Relatórios\u001b[00m\n",
      "\u001b[95m## Final Answer:\u001b[00m \u001b[92m\n",
      "**Relatório de Análise de Tendências no Setor de Tecnologia da Informação (TI)**\n",
      "\n",
      "**1. Introdução**  \n",
      "O setor de Tecnologia da Informação (TI) é um dos mais críticos e dinâmicos dentro da economia global moderna. Avaliado em aproximadamente **$3 trilhões**, o mercado apresenta uma taxa de crescimento projetada entre **6-8%** ao ano. Este setor não apenas impulsiona a inovação tecnológica, mas também redefine a forma como negócios e consumidores interagem no dia a dia. Com a transformação digital em andamento, é vital entender as tendências emergentes e as oportunidades que o setor oferece.\n",
      "\n",
      "**2. Padrões Emergentes e Oportunidades**  \n",
      "\n",
      "**2.1 Inteligência Artificial (IA)**  \n",
      "A adoção de soluções de IA continua a ser uma das maiores tendências dentro do setor de TI. O crescimento previsto é de **40.2% ao ano** até 2025. Empresas estão investindo em automação, análise de dados avançada e desenvolvimento de chatbots para melhorar a experiência do cliente e otimizar operações. O desenvolvimento de soluções personalizadas de IA representa uma significativa oportunidade de mercado.\n",
      "\n",
      "**2.2 Computação em Nuvem**  \n",
      "A migração para sistemas baseados em nuvem aumenta a flexibilidade e a escalabilidade das operações empresariais. Com uma projeção de crescimento de **20% ao ano**, estreitar parcerias com provedores de serviços de nuvem pode permitir que empresas ofereçam novos formatos de serviços, como **SaaS** e **PaaS**, atendendo às necessidades específicas de negócios em diversos setores.\n",
      "\n",
      "**2.3 Cibersegurança**  \n",
      "O mercado de cibersegurança deve alcançar cerca de **$345 bilhões** até 2026. A proteção contra ciberataques tornou-se uma prioridade crescente, com organizações cada vez mais conscientes da importância de investir em segurança de dados. Oferecer soluções inovadoras em cibersegurança, como monitoramento em tempo real e gerenciamento proativo de riscos, pode trazer grandes oportunidades para empresas desse segmento.\n",
      "\n",
      "**2.4 Conectividade 5G**  \n",
      "A implementação do **5G** está transformando o panorama da conectividade, possibilitando o crescimento das soluções em **Internet das Coisas (IoT)** e serviços de comunicação. As empresas de tecnologia devem explorar maneiras de integrar a conectividade 5G em suas ofertas, o que pode aumentar a eficiência e possibilitar coletar dados em tempo real de forma mais eficaz.\n",
      "\n",
      "**2.5 Trabalho Híbrido e Colaboração Remota**  \n",
      "Com a transição de modelos de trabalho tradicionais, as ferramentas de colaboração continuam em alta demanda. Inovações que promovem interatividade e produtividade em ambientes de trabalho híbridos são essenciais. Investir no desenvolvimento de plataformas que aprimorem a integração de equipes remotas pode posicionar uma empresa favoravelmente neste espaço em expansão.\n",
      "\n",
      "**3. Conclusão**  \n",
      "O setor de Tecnologia da Informação está em posição única para capitalizar sobre tendências significativas que moldam o futuro das operações e da interação entre negócios e consumidores. Com a inteligência artificial, computação em nuvem, cibersegurança, 5G e o novo modelo de trabalho híbrido, existe uma vasta gama de oportunidades para serem exploradas. Investidores e empresas devem permanecer atentos a essas tendências para não apenas se adaptar, mas também prosperar em um mercado competitivo.\n",
      "\n",
      "**4. Recomendações Finais**  \n",
      "Recomenda-se que os stakeholders do setor realizem análises de mercado contínuas e invistam em parcerias estratégicas. A colaboração com startups inovadoras pode ser uma abordagem valiosa para se manter à frente das curvas tecnológicas e das mudanças no comportamento do consumidor. Além disso, a formação contínua sobre novas tecnologias e a participação em conferências da área podem ajudar as empresas a entender melhor o panorama em constante evolução do setor.\n",
      "\n",
      "**5. Fontes Utilizadas**  \n",
      "- Relatórios de Pesquisa de Mercado (Gartner, IDC, Statista)  \n",
      "- Publicações de Indústrias de TI (Forbes, TechCrunch)  \n",
      "- Dados financeiros de empresas públicas e privadas  \n",
      "\n",
      "Este relatório foi elaborado para fornecer uma visão clara e abrangente do setor de Tecnologia da Informação, fundamentada em dados atuais e relevantes, e ajudará na identificação de oportunidades e adequações estratégicas no dinâmico campo da TI.\u001b[00m\n",
      "\n",
      "\n"
     ]
    }
   ],
   "source": [
    "resultado = crew.kickoff(inputs={\"sector\": \"Tecnologia da Informação\"})"
   ]
  },
  {
   "cell_type": "code",
   "execution_count": 29,
   "id": "106ea3ec",
   "metadata": {},
   "outputs": [
    {
     "data": {
      "text/markdown": [
       "**Relatório de Análise de Tendências no Setor de Tecnologia da Informação (TI)**\n",
       "\n",
       "**1. Introdução**  \n",
       "O setor de Tecnologia da Informação (TI) é um dos mais críticos e dinâmicos dentro da economia global moderna. Avaliado em aproximadamente **$3 trilhões**, o mercado apresenta uma taxa de crescimento projetada entre **6-8%** ao ano. Este setor não apenas impulsiona a inovação tecnológica, mas também redefine a forma como negócios e consumidores interagem no dia a dia. Com a transformação digital em andamento, é vital entender as tendências emergentes e as oportunidades que o setor oferece.\n",
       "\n",
       "**2. Padrões Emergentes e Oportunidades**  \n",
       "\n",
       "**2.1 Inteligência Artificial (IA)**  \n",
       "A adoção de soluções de IA continua a ser uma das maiores tendências dentro do setor de TI. O crescimento previsto é de **40.2% ao ano** até 2025. Empresas estão investindo em automação, análise de dados avançada e desenvolvimento de chatbots para melhorar a experiência do cliente e otimizar operações. O desenvolvimento de soluções personalizadas de IA representa uma significativa oportunidade de mercado.\n",
       "\n",
       "**2.2 Computação em Nuvem**  \n",
       "A migração para sistemas baseados em nuvem aumenta a flexibilidade e a escalabilidade das operações empresariais. Com uma projeção de crescimento de **20% ao ano**, estreitar parcerias com provedores de serviços de nuvem pode permitir que empresas ofereçam novos formatos de serviços, como **SaaS** e **PaaS**, atendendo às necessidades específicas de negócios em diversos setores.\n",
       "\n",
       "**2.3 Cibersegurança**  \n",
       "O mercado de cibersegurança deve alcançar cerca de **$345 bilhões** até 2026. A proteção contra ciberataques tornou-se uma prioridade crescente, com organizações cada vez mais conscientes da importância de investir em segurança de dados. Oferecer soluções inovadoras em cibersegurança, como monitoramento em tempo real e gerenciamento proativo de riscos, pode trazer grandes oportunidades para empresas desse segmento.\n",
       "\n",
       "**2.4 Conectividade 5G**  \n",
       "A implementação do **5G** está transformando o panorama da conectividade, possibilitando o crescimento das soluções em **Internet das Coisas (IoT)** e serviços de comunicação. As empresas de tecnologia devem explorar maneiras de integrar a conectividade 5G em suas ofertas, o que pode aumentar a eficiência e possibilitar coletar dados em tempo real de forma mais eficaz.\n",
       "\n",
       "**2.5 Trabalho Híbrido e Colaboração Remota**  \n",
       "Com a transição de modelos de trabalho tradicionais, as ferramentas de colaboração continuam em alta demanda. Inovações que promovem interatividade e produtividade em ambientes de trabalho híbridos são essenciais. Investir no desenvolvimento de plataformas que aprimorem a integração de equipes remotas pode posicionar uma empresa favoravelmente neste espaço em expansão.\n",
       "\n",
       "**3. Conclusão**  \n",
       "O setor de Tecnologia da Informação está em posição única para capitalizar sobre tendências significativas que moldam o futuro das operações e da interação entre negócios e consumidores. Com a inteligência artificial, computação em nuvem, cibersegurança, 5G e o novo modelo de trabalho híbrido, existe uma vasta gama de oportunidades para serem exploradas. Investidores e empresas devem permanecer atentos a essas tendências para não apenas se adaptar, mas também prosperar em um mercado competitivo.\n",
       "\n",
       "**4. Recomendações Finais**  \n",
       "Recomenda-se que os stakeholders do setor realizem análises de mercado contínuas e invistam em parcerias estratégicas. A colaboração com startups inovadoras pode ser uma abordagem valiosa para se manter à frente das curvas tecnológicas e das mudanças no comportamento do consumidor. Além disso, a formação contínua sobre novas tecnologias e a participação em conferências da área podem ajudar as empresas a entender melhor o panorama em constante evolução do setor.\n",
       "\n",
       "**5. Fontes Utilizadas**  \n",
       "- Relatórios de Pesquisa de Mercado (Gartner, IDC, Statista)  \n",
       "- Publicações de Indústrias de TI (Forbes, TechCrunch)  \n",
       "- Dados financeiros de empresas públicas e privadas  \n",
       "\n",
       "Este relatório foi elaborado para fornecer uma visão clara e abrangente do setor de Tecnologia da Informação, fundamentada em dados atuais e relevantes, e ajudará na identificação de oportunidades e adequações estratégicas no dinâmico campo da TI."
      ],
      "text/plain": [
       "<IPython.core.display.Markdown object>"
      ]
     },
     "metadata": {},
     "output_type": "display_data"
    }
   ],
   "source": [
    "display(Markdown(str(resultado)))"
   ]
  },
  {
   "cell_type": "code",
   "execution_count": null,
   "id": "b3dac45c-219c-499b-ab47-1f6bc4de18bb",
   "metadata": {},
   "outputs": [],
   "source": [
    "with open(\"artigo.md\", \"w\", encoding=\"utf-8\") as file:\n",
    "    file.write(str(resultado))"
   ]
  }
 ],
 "metadata": {
  "kernelspec": {
   "display_name": ".venv",
   "language": "python",
   "name": "python3"
  },
  "language_info": {
   "codemirror_mode": {
    "name": "ipython",
    "version": 3
   },
   "file_extension": ".py",
   "mimetype": "text/x-python",
   "name": "python",
   "nbconvert_exporter": "python",
   "pygments_lexer": "ipython3",
   "version": "3.13.5"
  }
 },
 "nbformat": 4,
 "nbformat_minor": 5
}
